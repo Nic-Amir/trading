{
 "cells": [
  {
   "cell_type": "code",
   "execution_count": null,
   "id": "0ebc7cbf",
   "metadata": {
    "ExecuteTime": {
     "end_time": "2021-12-20T10:35:06.952395Z",
     "start_time": "2021-12-20T10:35:06.858168Z"
    }
   },
   "outputs": [],
   "source": [
    "import numpy as np\n",
    "import pandas as pd\n",
    "import matplotlib.pyplot as plt\n",
    "from statsmodels.graphics.tsaplots import plot_acf\n",
    "import datetime\n",
    "from statsmodels.tsa.stattools import adfuller\n",
    "import yfinance as yf\n",
    "import warnings\n",
    "warnings.filterwarnings('ignore')"
   ]
  },
  {
   "cell_type": "markdown",
   "id": "947b2754",
   "metadata": {},
   "source": [
    "# Exercise 1: FX realised volatility at various sampling frequencies\n",
    "Compute realised volatilities of EURUSD at various sampling frequencies. What observations can you make? Do they converge to the same value? "
   ]
  },
  {
   "cell_type": "code",
   "execution_count": null,
   "id": "4f16b25a",
   "metadata": {
    "ExecuteTime": {
     "end_time": "2021-12-20T08:38:31.657464Z",
     "start_time": "2021-12-20T08:38:27.397877Z"
    }
   },
   "outputs": [],
   "source": [
    "# Read EURUSD data\n",
    "df = pd.read_csv(\"EURUSD.csv\")\n",
    "df[\"ts\"] = pd.to_datetime(df[\"ts\"])\n",
    "df = df.set_index(\"ts\")"
   ]
  },
  {
   "cell_type": "code",
   "execution_count": null,
   "id": "361400d9",
   "metadata": {
    "ExecuteTime": {
     "end_time": "2021-12-20T10:50:47.215941Z",
     "start_time": "2021-12-20T10:50:47.206880Z"
    },
    "scrolled": false
   },
   "outputs": [],
   "source": [
    "'''\n",
    "write your code here.....\n",
    "'''"
   ]
  },
  {
   "cell_type": "markdown",
   "id": "5b118efd",
   "metadata": {},
   "source": [
    "# Exercise 2: ACF Plot for EURUSD\n",
    "Produce the ACF plots for EURUSD data at the following frequencies: hourly, daily"
   ]
  },
  {
   "cell_type": "code",
   "execution_count": null,
   "id": "45a9992d",
   "metadata": {
    "ExecuteTime": {
     "end_time": "2021-12-20T09:39:45.972970Z",
     "start_time": "2021-12-20T09:39:40.228610Z"
    }
   },
   "outputs": [],
   "source": [
    "# Read EURUSD data\n",
    "df = pd.read_csv(\"EURUSD.csv\")\n",
    "df[\"ts\"] = pd.to_datetime(df[\"ts\"])\n",
    "df = df.set_index(\"ts\")"
   ]
  },
  {
   "cell_type": "code",
   "execution_count": null,
   "id": "922ea0cf",
   "metadata": {
    "ExecuteTime": {
     "end_time": "2021-12-19T12:51:24.405509Z",
     "start_time": "2021-12-19T12:51:21.977099Z"
    },
    "scrolled": false
   },
   "outputs": [],
   "source": [
    "'''\n",
    "write your code here.....\n",
    "'''"
   ]
  },
  {
   "cell_type": "markdown",
   "id": "2b41c578",
   "metadata": {},
   "source": [
    "# Exercise 3: ACF plot for White Noise Series"
   ]
  },
  {
   "cell_type": "code",
   "execution_count": null,
   "id": "1d73ad21",
   "metadata": {
    "ExecuteTime": {
     "end_time": "2021-12-19T12:27:40.506414Z",
     "start_time": "2021-12-19T12:27:40.312207Z"
    }
   },
   "outputs": [],
   "source": [
    "'''\n",
    "write your code here.....\n",
    "'''"
   ]
  },
  {
   "cell_type": "markdown",
   "id": "83d5bf35",
   "metadata": {},
   "source": [
    "# Exercise 4: Stationarity Check"
   ]
  },
  {
   "cell_type": "markdown",
   "id": "6bf554ec",
   "metadata": {},
   "source": [
    "Check stationarity of FX price series & its log-return series. "
   ]
  },
  {
   "cell_type": "code",
   "execution_count": null,
   "id": "0f20d89b",
   "metadata": {
    "ExecuteTime": {
     "end_time": "2021-12-20T09:55:10.283054Z",
     "start_time": "2021-12-20T09:55:10.279328Z"
    }
   },
   "outputs": [],
   "source": [
    "def stationarity_test(series): \n",
    "    '''\n",
    "    write your code here.....\n",
    "    '''"
   ]
  },
  {
   "cell_type": "code",
   "execution_count": null,
   "id": "9adf5805",
   "metadata": {
    "ExecuteTime": {
     "end_time": "2021-12-20T09:55:15.945315Z",
     "start_time": "2021-12-20T09:55:10.671075Z"
    }
   },
   "outputs": [],
   "source": [
    "# Read EURUSD data\n",
    "df = pd.read_csv(\"EURUSD.csv\")\n",
    "df[\"ts\"] = pd.to_datetime(df[\"ts\"])\n",
    "df = df.set_index(\"ts\")"
   ]
  }
 ],
 "metadata": {
  "hide_input": false,
  "kernelspec": {
   "display_name": "Python 3",
   "language": "python",
   "name": "python3"
  },
  "language_info": {
   "codemirror_mode": {
    "name": "ipython",
    "version": 3
   },
   "file_extension": ".py",
   "mimetype": "text/x-python",
   "name": "python",
   "nbconvert_exporter": "python",
   "pygments_lexer": "ipython3",
   "version": "3.10.6"
  },
  "varInspector": {
   "cols": {
    "lenName": 16,
    "lenType": 16,
    "lenVar": 40
   },
   "kernels_config": {
    "python": {
     "delete_cmd_postfix": "",
     "delete_cmd_prefix": "del ",
     "library": "var_list.py",
     "varRefreshCmd": "print(var_dic_list())"
    },
    "r": {
     "delete_cmd_postfix": ") ",
     "delete_cmd_prefix": "rm(",
     "library": "var_list.r",
     "varRefreshCmd": "cat(var_dic_list()) "
    }
   },
   "types_to_exclude": [
    "module",
    "function",
    "builtin_function_or_method",
    "instance",
    "_Feature"
   ],
   "window_display": false
  },
  "vscode": {
   "interpreter": {
    "hash": "916dbcbb3f70747c44a77c7bcd40155683ae19c65e1c03b4aa3499c5328201f1"
   }
  }
 },
 "nbformat": 4,
 "nbformat_minor": 5
}
