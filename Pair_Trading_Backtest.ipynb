{
 "cells": [
  {
   "cell_type": "code",
   "execution_count": 2,
   "metadata": {},
   "outputs": [],
   "source": [
    "import backtrader as bt\n",
    "import yfinance as yf\n",
    "\n",
    "class PairTradingStrategy(bt.Strategy):\n",
    "    params = (\n",
    "        ('symbol1', 'AAPL'),\n",
    "        ('symbol2', 'MSFT'),\n",
    "        ('lookback_period', 20),\n",
    "        ('zscore_threshold', 1.5)\n",
    "    )\n",
    "\n",
    "    def __init__(self):\n",
    "        self.data1 = self.datas[0]\n",
    "        self.data2 = self.datas[1]\n",
    "\n",
    "        self.spread = self.data1.close - self.data2.close\n",
    "        self.spread_mean = bt.indicators.SimpleMovingAverage(self.spread, period=self.params.lookback_period)\n",
    "        self.spread_std = bt.indicators.StandardDeviation(self.spread, period=self.params.lookback_period)\n",
    "\n",
    "        self.zscore = (self.spread - self.spread_mean) / self.spread_std\n",
    "\n",
    "    def next(self):\n",
    "        if self.zscore[0] > self.params.zscore_threshold:\n",
    "            self.sell(data=self.data1)\n",
    "            self.buy(data=self.data2)\n",
    "        elif self.zscore[0] < -self.params.zscore_threshold:\n",
    "            self.buy(data=self.data1)\n",
    "            self.sell(data=self.data2)\n",
    "\n"
   ]
  },
  {
   "cell_type": "code",
   "execution_count": 3,
   "metadata": {},
   "outputs": [
    {
     "name": "stdout",
     "output_type": "stream",
     "text": [
      "[*********************100%***********************]  1 of 1 completed\n",
      "[*********************100%***********************]  1 of 1 completed\n",
      "Initial portfolio value: 100,000.00\n"
     ]
    },
    {
     "data": {
      "text/plain": [
       "[<__main__.PairTradingStrategy at 0x7fddc65e8ca0>]"
      ]
     },
     "execution_count": 3,
     "metadata": {},
     "output_type": "execute_result"
    }
   ],
   "source": [
    "cerebro = bt.Cerebro()\n",
    "\n",
    "# Add data feeds\n",
    "aapl = bt.feeds.PandasData(dataname=yf.download('AAPL', start='2010-01-01', end='2023-02-23'))\n",
    "msft = bt.feeds.PandasData(dataname=yf.download('MSFT', start='2010-01-01', end='2023-02-23'))\n",
    "cerebro.adddata(aapl, name='AAPL')\n",
    "cerebro.adddata(msft, name='MSFT')\n",
    "\n",
    "# Add strategy\n",
    "cerebro.addstrategy(PairTradingStrategy)\n",
    "\n",
    "# Set initial capital\n",
    "cerebro.broker.setcash(100000.0)\n",
    "\n",
    "# Set commission and slippage\n",
    "cerebro.broker.setcommission(commission=0.001)\n",
    "cerebro.broker.set_slippage_fixed(0.01)\n",
    "\n",
    "print(f\"Initial portfolio value: {cerebro.broker.getvalue():,.2f}\")\n",
    "\n",
    "# Run backtest\n",
    "cerebro.run()\n",
    "\n"
   ]
  },
  {
   "cell_type": "code",
   "execution_count": 4,
   "metadata": {},
   "outputs": [
    {
     "data": {
      "text/plain": [
       "[[<Figure size 1024x982 with 7 Axes>]]"
      ]
     },
     "execution_count": 4,
     "metadata": {},
     "output_type": "execute_result"
    }
   ],
   "source": [
    "cerebro.plot(iplot= False)"
   ]
  },
  {
   "cell_type": "code",
   "execution_count": 5,
   "metadata": {},
   "outputs": [
    {
     "name": "stdout",
     "output_type": "stream",
     "text": [
      "Final portfolio value: 100,559.17\n"
     ]
    },
    {
     "name": "stderr",
     "output_type": "stream",
     "text": [
      "Exception in Tkinter callback\n",
      "Traceback (most recent call last):\n",
      "  File \"/home/amir.naser/anaconda3/lib/python3.9/tkinter/__init__.py\", line 1892, in __call__\n",
      "    return self.func(*args)\n",
      "  File \"/home/amir.naser/anaconda3/lib/python3.9/tkinter/__init__.py\", line 814, in callit\n",
      "    func(*args)\n",
      "  File \"/home/amir.naser/anaconda3/lib/python3.9/site-packages/matplotlib/backends/_backend_tk.py\", line 537, in delayed_destroy\n",
      "    self.window.destroy()\n",
      "  File \"/home/amir.naser/anaconda3/lib/python3.9/tkinter/__init__.py\", line 2312, in destroy\n",
      "    self.tk.call('destroy', self._w)\n",
      "_tkinter.TclError: can't invoke \"destroy\" command: application has been destroyed\n"
     ]
    }
   ],
   "source": [
    "# Print final portfolio value\n",
    "print(f\"Final portfolio value: {cerebro.broker.getvalue():,.2f}\")\n"
   ]
  },
  {
   "cell_type": "code",
   "execution_count": null,
   "metadata": {},
   "outputs": [],
   "source": []
  }
 ],
 "metadata": {
  "kernelspec": {
   "display_name": "Python 3 (ipykernel)",
   "language": "python",
   "name": "python3"
  },
  "language_info": {
   "codemirror_mode": {
    "name": "ipython",
    "version": 3
   },
   "file_extension": ".py",
   "mimetype": "text/x-python",
   "name": "python",
   "nbconvert_exporter": "python",
   "pygments_lexer": "ipython3",
   "version": "3.9.16"
  },
  "vscode": {
   "interpreter": {
    "hash": "916dbcbb3f70747c44a77c7bcd40155683ae19c65e1c03b4aa3499c5328201f1"
   }
  }
 },
 "nbformat": 4,
 "nbformat_minor": 2
}
