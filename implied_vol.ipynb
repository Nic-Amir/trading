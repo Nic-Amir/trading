{
 "cells": [
  {
   "cell_type": "code",
   "execution_count": 25,
   "metadata": {},
   "outputs": [
    {
     "name": "stdout",
     "output_type": "stream",
     "text": [
      "found on 25th iteration\n",
      "difference is equal to -7.458132313331589e-05\n"
     ]
    },
    {
     "data": {
      "text/plain": [
       "0.1455128426478809"
      ]
     },
     "execution_count": 25,
     "metadata": {},
     "output_type": "execute_result"
    }
   ],
   "source": [
    "import numpy as np\n",
    "from scipy.stats import norm\n",
    "\n",
    "N_prime = norm.pdf\n",
    "N = norm.cdf\n",
    "\n",
    "def black_scholes_call(S, K, T, r, sigma):\n",
    "    \n",
    "\n",
    "    ###standard black-scholes formula\n",
    "    d1 = (np.log(S / K) + (r + sigma ** 2 / 2) * T) / (sigma * np.sqrt(T))\n",
    "    d2 = d1 - sigma * np.sqrt(T)\n",
    "\n",
    "    call = S * N(d1) -  N(d2)* K * np.exp(-r * T)\n",
    "    return call\n",
    "    \n",
    "\n",
    "def vega(S, K, T, r, sigma):\n",
    "\n",
    "    ### calculating d1 from black scholes\n",
    "    d1 = (np.log(S / K) + (r + sigma ** 2 / 2) * T) / sigma * np.sqrt(T)\n",
    "    \n",
    "    vega = S  * np.sqrt(T) * N_prime(d1)\n",
    "    return vega\n",
    "\n",
    "\n",
    "\n",
    "def implied_volatility_call(C, S, K, T, r, tol=0.0001,max_iterations=100):\n",
    "    \n",
    "    ### assigning initial volatility estimate for input in Newton_rap procedure\n",
    "    sigma = 0.1\n",
    "\n",
    "    for i in range(max_iterations):\n",
    "\n",
    "        ### calculate difference between blackscholes price and market price with\n",
    "        ### iteratively updated volality estimate\n",
    "        diff = black_scholes_call(S, K, T, r, sigma) - C\n",
    "\n",
    "        ###break if difference is less than specified tolerance level\n",
    "        if abs(diff) < tol:\n",
    "            print(f'found on {i}th iteration')\n",
    "            print(f'difference is equal to {diff}')\n",
    "            break\n",
    "\n",
    "        ### use newton rapshon to update the estimate\n",
    "        sigma = sigma - diff / vega(S, K, T, r, sigma)\n",
    "\n",
    "    return sigma\n",
    "\n",
    "implied_volatility_call(C = 78, S = 10836.2, K = 10760 , T = (24-14)/24/365, r=0.0, tol=0.0001,max_iterations=100)"
   ]
  }
 ],
 "metadata": {
  "kernelspec": {
   "display_name": "Python 3",
   "language": "python",
   "name": "python3"
  },
  "language_info": {
   "codemirror_mode": {
    "name": "ipython",
    "version": 3
   },
   "file_extension": ".py",
   "mimetype": "text/x-python",
   "name": "python",
   "nbconvert_exporter": "python",
   "pygments_lexer": "ipython3",
   "version": "3.10.6"
  },
  "orig_nbformat": 4,
  "vscode": {
   "interpreter": {
    "hash": "916dbcbb3f70747c44a77c7bcd40155683ae19c65e1c03b4aa3499c5328201f1"
   }
  }
 },
 "nbformat": 4,
 "nbformat_minor": 2
}
